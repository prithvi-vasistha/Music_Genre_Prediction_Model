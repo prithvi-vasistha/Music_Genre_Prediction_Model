{
 "cells": [
  {
   "cell_type": "code",
   "execution_count": 1,
   "id": "1e304f13",
   "metadata": {
    "_cell_guid": "b1076dfc-b9ad-4769-8c92-a6c4dae69d19",
    "_uuid": "8f2839f25d086af736a60e9eeb907d3b93b6e0e5",
    "execution": {
     "iopub.execute_input": "2023-10-31T09:09:32.122873Z",
     "iopub.status.busy": "2023-10-31T09:09:32.122302Z",
     "iopub.status.idle": "2023-10-31T09:13:16.770078Z",
     "shell.execute_reply": "2023-10-31T09:13:16.769183Z"
    },
    "papermill": {
     "duration": 224.65269,
     "end_time": "2023-10-31T09:13:16.772036",
     "exception": false,
     "start_time": "2023-10-31T09:09:32.119346",
     "status": "completed"
    },
    "tags": []
   },
   "outputs": [
    {
     "name": "stdout",
     "output_type": "stream",
     "text": [
      "Validation Accuracy: 0.914952751528627\n"
     ]
    }
   ],
   "source": [
    "import pandas as pd\n",
    "from sklearn.model_selection import train_test_split\n",
    "from sklearn.preprocessing import StandardScaler, LabelEncoder\n",
    "from sklearn.svm import SVC  # Import the SVM classifier\n",
    "from sklearn.metrics import accuracy_score\n",
    "from sklearn.model_selection import GridSearchCV\n",
    "\n",
    "# Step 2: Load the CSV file and examine the data\n",
    "data = pd.read_csv(\"/kaggle/input/pesurrcampusmicompetitionc/train.csv\")\n",
    "\n",
    "# Step 3: Separate the features (X) and the labels (y)\n",
    "X = data.drop(\"label\", axis=1)\n",
    "y = data[\"label\"]\n",
    "\n",
    "# Step 4: Split the data into training and validation sets\n",
    "X_train, X_val, y_train, y_val = train_test_split(X, y, test_size=0.2, random_state=42)\n",
    "\n",
    "# Step 5: Preprocess the data\n",
    "numeric_columns = X_train.select_dtypes(include=[\"float64\", \"int64\"]).columns\n",
    "scaler = StandardScaler()\n",
    "X_train_scaled = scaler.fit_transform(X_train[numeric_columns])\n",
    "X_val_scaled = scaler.transform(X_val[numeric_columns])\n",
    "\n",
    "# Step 6: Hyperparameter Tuning for SVM\n",
    "param_grid = {\n",
    "    'C': [1, 10, 100],\n",
    "    'kernel': ['linear', 'rbf'],\n",
    "    'gamma': ['scale', 'auto']\n",
    "}\n",
    "grid_search = GridSearchCV(SVC(random_state=42), param_grid, cv=3, n_jobs=-1)\n",
    "grid_search.fit(X_train_scaled, y_train)\n",
    "\n",
    "# Get the best model from the grid search\n",
    "best_model = grid_search.best_estimator_\n",
    "\n",
    "# Step 7: Make predictions on the validation set\n",
    "y_pred = best_model.predict(X_val_scaled)\n",
    "\n",
    "# Step 8: Evaluate the model's accuracy\n",
    "accuracy = accuracy_score(y_val, y_pred)\n",
    "print(\"Validation Accuracy:\", accuracy)\n",
    "\n",
    "# Step 9: Load the test data and preprocess it\n",
    "test_data = pd.read_csv(\"/kaggle/input/pesurrcampusmicompetitionc/test.csv\")\n",
    "test_data_scaled = scaler.transform(test_data[numeric_columns])\n",
    "\n",
    "# Step 10: Make predictions on the test data and create a submission file\n",
    "test_predictions = best_model.predict(test_data_scaled)\n",
    "\n",
    "# Convert label column to numeric encoding\n",
    "label_encoder = LabelEncoder()\n",
    "test_predictions_encoded = label_encoder.fit_transform(test_predictions)\n",
    "\n",
    "submission_df = pd.DataFrame({\"id\": test_data[\"id\"], \"label\": test_predictions_encoded})\n",
    "submission_df.to_csv(\"submission.csv\", index=False)\n"
   ]
  }
 ],
 "metadata": {
  "kernelspec": {
   "display_name": "Python 3",
   "language": "python",
   "name": "python3"
  },
  "language_info": {
   "codemirror_mode": {
    "name": "ipython",
    "version": 3
   },
   "file_extension": ".py",
   "mimetype": "text/x-python",
   "name": "python",
   "nbconvert_exporter": "python",
   "pygments_lexer": "ipython3",
   "version": "3.10.12"
  },
  "papermill": {
   "default_parameters": {},
   "duration": 229.660935,
   "end_time": "2023-10-31T09:13:19.391630",
   "environment_variables": {},
   "exception": null,
   "input_path": "__notebook__.ipynb",
   "output_path": "__notebook__.ipynb",
   "parameters": {},
   "start_time": "2023-10-31T09:09:29.730695",
   "version": "2.4.0"
  }
 },
 "nbformat": 4,
 "nbformat_minor": 5
}
